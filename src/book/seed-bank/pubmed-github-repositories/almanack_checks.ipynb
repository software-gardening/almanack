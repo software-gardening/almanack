{
 "cells": [
  {
   "cell_type": "markdown",
   "id": "37d18ade",
   "metadata": {},
   "source": [
    "# PubMed GitHub repository Almanack checks analysis\n",
    "\n",
    "This notebook focuses on gathering and analyzing Almanack sustainability check data for PubMed-linked GitHub repositories and is an extension of the work done [gather-software-information-entropy](./gather-software-information-entropy.ipynb)\n",
    "\n",
    "PubMed article repositories are extracted from a curated list of GitHub links.  \n",
    "\n",
    "The Almanack package is used to process each repository in parallel batches, with results written to Parquet files.  \n",
    "These batch outputs can be combined into a full dataset for further analysis of sustainability metrics."
   ]
  },
  {
   "cell_type": "code",
   "execution_count": null,
   "id": "aa0ab4dc",
   "metadata": {},
   "outputs": [
    {
     "name": "stderr",
     "output_type": "stream",
     "text": [
      "No coverage.py data found in the repository.\n"
     ]
    },
    {
     "name": "stdout",
     "output_type": "stream",
     "text": [
      "[1/10]\n",
      "[2/10]\n",
      "[3/10]\n",
      "[4/10]\n",
      "[5/10]\n",
      "[6/10]\n",
      "[7/10]\n"
     ]
    },
    {
     "name": "stderr",
     "output_type": "stream",
     "text": [
      "No coverage.py data found in the repository.\n"
     ]
    },
    {
     "name": "stdout",
     "output_type": "stream",
     "text": [
      "[8/10]\n",
      "[9/10]\n",
      "[10/10]\n"
     ]
    }
   ],
   "source": [
    "from concurrent.futures import ProcessPoolExecutor, as_completed\n",
    "import pandas as pd\n",
    "import json\n",
    "from typing import Optional\n",
    "from pathlib import Path\n",
    "from almanack import process_repo_for_almanack\n",
    "\n",
    "def _sanitize_for_parquet(df: pd.DataFrame) -> pd.DataFrame:\n",
    "    \"\"\"\n",
    "    Cleans a DataFrame so all columns are parquet-safe.\n",
    "\n",
    "    - Expands dict columns into multiple fields.\n",
    "    - Converts lists into JSON strings.\n",
    "    - Casts generic object types into strings.\n",
    "\n",
    "    Args:\n",
    "        df: Input DataFrame with raw metrics.\n",
    "\n",
    "    Returns:\n",
    "        df: Sanitized DataFrame safe for parquet storage.\n",
    "    \"\"\"\n",
    "    for col in df.columns:\n",
    "        # Check if column contains dicts\n",
    "        if df[col].apply(lambda x: isinstance(x, dict)).any():\n",
    "            nested = pd.json_normalize(df[col])\n",
    "            nested.columns = [f\"{col}_{c}\" for c in nested.columns]\n",
    "            df = df.drop(columns=[col]).join(nested)\n",
    "        # Check if column contains lists\n",
    "        elif df[col].apply(lambda x: isinstance(x, list)).any():\n",
    "            df[col] = df[col].apply(lambda x: json.dumps(x) if isinstance(x, list) else x)\n",
    "        # Fallback for generic objects\n",
    "        elif df[col].dtype == \"object\":\n",
    "            df[col] = df[col].astype(str)\n",
    "    return df\n",
    "\n",
    "\n",
    "\n",
    "def repository_almanack_analysis(batch_size: int = 500, max_workers: int = 16, limit: Optional[int] = None,):\n",
    "    \"\"\"\n",
    "    Processes PubMed GitHub repositories in batches, flattens their Almanack metrics,\n",
    "    and writes the results to parquet files.\n",
    "\n",
    "    Args:\n",
    "        batch_size (int): Number of repositories to process per batch.\n",
    "        max_workers (int): Maximum number of parallel workers.\n",
    "        limit (Optional[int]): Restrict total number of repositories processed.\n",
    "\n",
    "    Returns:\n",
    "        df: DataFrame of results from the last processed batch.\n",
    "    \"\"\"\n",
    "    parquet_file = \"gather-pubmed-repos/pubmed_github_links.parquet\"\n",
    "\n",
    "    if not Path(parquet_file).exists():\n",
    "        raise FileNotFoundError(f\"Parquet file not found: {parquet_file}\")\n",
    "\n",
    "    df = pd.read_parquet(parquet_file)\n",
    "\n",
    "    if \"github_link\" not in df.columns:\n",
    "        raise ValueError(f\"'github_link' column not found. Available: {list(df.columns)}\")\n",
    "\n",
    "    repo_urls = df[\"github_link\"].drop_duplicates().dropna().tolist()\n",
    "\n",
    "    if limit:\n",
    "        repo_urls = repo_urls[:limit]\n",
    "\n",
    "    total_repos = len(repo_urls)\n",
    "\n",
    "    repo_count = 0\n",
    "    batch_number = 1\n",
    "    last_batch_results = None\n",
    "\n",
    "    for start in range(0, total_repos, batch_size):\n",
    "        end = min(start + batch_size, total_repos)\n",
    "        batch_urls = repo_urls[start:end]\n",
    "\n",
    "        with ProcessPoolExecutor(max_workers=max_workers) as executor:\n",
    "            futures = {\n",
    "                executor.submit(process_repo_for_almanack, repo_url): repo_url\n",
    "                for repo_url in batch_urls\n",
    "            }\n",
    "\n",
    "            batch_results = []\n",
    "\n",
    "            for future in as_completed(futures):\n",
    "                repo_count += 1\n",
    "                repo_url = futures[future]\n",
    "                try:\n",
    "                    result_dict = future.result()\n",
    "                    # Only print the incrementer\n",
    "                    print(f\"[{repo_count}/{total_repos}]\")\n",
    "                    batch_results.append(result_dict)\n",
    "                except Exception as e:\n",
    "                    print(f\"[{repo_count}/{total_repos}]\")\n",
    "                    batch_results.append({\n",
    "                        \"Repository URL\": repo_url,\n",
    "                        \"almanack_error\": str(e),\n",
    "                        \"checks_total\": None,\n",
    "                        \"checks_passed\": None,\n",
    "                        \"checks_pct\": None,\n",
    "                    })\n",
    "\n",
    "        df_batch = pd.DataFrame(batch_results)\n",
    "        df_batch = _sanitize_for_parquet(df_batch)\n",
    "\n",
    "        batch_filename = f\"repository_almanack_results_batch_{batch_number}.parquet\"\n",
    "        df_batch.to_parquet(batch_filename, compression=\"zstd\", index=False)\n",
    "\n",
    "        last_batch_results = df_batch\n",
    "        batch_number += 1\n",
    "\n",
    "    return last_batch_results\n",
    "\n",
    "\n",
    "def test_pilot_run(num_repos: int = 10, batch_size: int = 5):\n",
    "    try:\n",
    "        result_df = repository_almanack_analysis(\n",
    "            batch_size=batch_size,\n",
    "            max_workers=4,\n",
    "            limit=num_repos\n",
    "        )\n",
    "        return result_df\n",
    "    except Exception as e:\n",
    "        print(f\"Pilot test failed: {e}\")\n",
    "        raise\n",
    "\n",
    "\n",
    "if __name__ == \"__main__\":\n",
    "    pilot_df = test_pilot_run(num_repos=10, batch_size=5)\n"
   ]
  },
  {
   "cell_type": "code",
   "execution_count": 15,
   "id": "9b35f74d",
   "metadata": {},
   "outputs": [
    {
     "name": "stdout",
     "output_type": "stream",
     "text": [
      "                              Repository URL                                          repo-path  repo-commits  repo-file-count        repo-commit-time-range  repo-days-of-development  repo-commits-per-day      almanack-table-datetime            almanack-version repo-primary-language repo-primary-license repo-doi repo-doi-publication-date  repo-includes-readme  repo-includes-contributing  repo-includes-code-of-conduct  repo-includes-license  repo-is-citable  repo-default-branch-not-master  repo-includes-common-docs  repo-unique-contributors  repo-unique-contributors-past-year  repo-unique-contributors-past-182-days  repo-tags-count  repo-tags-count-past-year  repo-tags-count-past-182-days  repo-stargazers-count repo-uses-issues  repo-issues-open-count repo-pull-requests-enabled  repo-forks-count  repo-subscribers-count  repo-packages-ecosystems-count  repo-packages-versions-count  repo-social-media-platforms-count repo-doi-valid-format repo-doi-https-resolvable repo-doi-cited-by-count repo-days-between-doi-publication-date-and-latest-commit  repo-gh-workflow-success-ratio  repo-gh-workflow-succeeding-runs  repo-gh-workflow-failing-runs  repo-gh-workflow-queried-total repo-code-coverage-percent repo-date-of-last-coverage-run repo-days-between-last-coverage-run-latest-commit repo-code-coverage-total-lines repo-code-coverage-executed-lines  repo-agg-info-entropy                         repo-almanack-score_nested repo-packages-ecosystems_nested repo-social-media-platforms_nested  checks_total  checks_passed  checks_pct\n",
      "0         https://github.com/WormBase/scdefg  /private/var/folders/wl/tr6p4_313g5f1hh3lwbxmy...           103               18  ('2021-01-29', '2022-02-02')                       370              0.278378  2025-09-26T01:59:14.821570Z  0.0.0.post227.dev0+366424a                Python            unlicense     None                      None                  True                       False                          False                   True            False                            True                      False                         5                                   0                                       0                1                          0                              0                    3.0             True                     3.0                       True               1.0                     3.0                               0                             0                                  0                  None                      None                    None                                               None                                   NaN                               NaN                            NaN                             NaN                       None                           None                                              None                           None                              None               0.153966  [{'almanack-score-numerator': 5, 'almanack-sco...                            [[]]                               [[]]            11              5   45.454545\n",
      "1  https://github.com/WormBase/wormcells-viz  /private/var/folders/wl/tr6p4_313g5f1hh3lwbxmy...           164               67  ('2021-03-19', '2023-11-30')                       987              0.166160  2025-09-26T01:59:14.821564Z  0.0.0.post227.dev0+366424a            JavaScript                  mit     None                      None                  True                       False                          False                   True            False                            True                      False                         3                                   0                                       0                0                          0                              0                    3.0             True                    16.0                       True               0.0                     3.0                               0                             0                                  0                  None                      None                    None                                               None                                   NaN                               NaN                            NaN                             NaN                       None                           None                                              None                           None                              None               0.025155  [{'almanack-score-numerator': 5, 'almanack-sco...                            [[]]                               [[]]            11              5   45.454545\n",
      "2        https://github.com/abacus-gene/paml  /private/var/folders/wl/tr6p4_313g5f1hh3lwbxmy...            80              220  ('2014-04-13', '2025-09-04')                      4163              0.019217  2025-09-26T01:59:14.821570Z  0.0.0.post227.dev0+366424a                     C              gpl-3.0     None                      None                  True                       False                          False                   True             True                           False                      False                         4                                   3                                       3               10                          2                              2                  168.0             True                     8.0                       True              27.0                     8.0                               0                             0                                  0                  None                      None                    None                                               None                                   NaN                               NaN                            NaN                             NaN                       None                           None                                              None                           None                              None               0.020901  [{'almanack-score-numerator': 5, 'almanack-sco...                            [[]]                               [[]]            11              5   45.454545\n",
      "3        https://github.com/theislab/anndata  /private/var/folders/wl/tr6p4_313g5f1hh3lwbxmy...          1576              211  ('2017-08-11', '2025-09-25')                      2968              0.530997  2025-09-26T01:59:14.821572Z  0.0.0.post227.dev0+366424a                  None                 None     None                      None                  True                       False                          False                   True             True                            True                       True                        58                                  15                                       9               96                         13                              7                    NaN             None                     NaN                       None               NaN                     NaN                               2                            11                                  0                  None                      None                    None                                               None                                  0.85                             100.0                           85.0                            15.0                       None                           None                                              None                           None                              None               0.029451  [{'almanack-score-numerator': 5, 'almanack-sco...            [['conda', 'spack']]                               [[]]            11              5   45.454545\n",
      "4         https://github.com/theislab/Scanpy  /private/var/folders/wl/tr6p4_313g5f1hh3lwbxmy...          3646              627  ('2017-01-29', '2025-09-25')                      3162              1.153068  2025-09-26T01:59:14.821569Z  0.0.0.post227.dev0+366424a                  None                 None     None                      None                  True                        True                          False                   True             True                            True                       True                       175                                  26                                      16               95                          8                              4                    NaN             None                     NaN                       None               NaN                     NaN                               0                             0                                  0                  None                      None                    None                                               None                                  0.67                             100.0                           67.0                            33.0                       None                           None                                              None                           None                              None               0.010819  [{'almanack-score-numerator': 6, 'almanack-sco...                            [[]]                               [[]]            11              6   54.545455\n"
     ]
    }
   ],
   "source": [
    "import pandas as pd\n",
    "import warnings\n",
    "## FOR TESTING PURPOSES ONLY\n",
    "df = pd.read_parquet(\"repository_almanack_results_batch_1.parquet\")\n",
    "\n",
    "# Supressing noisy warnings \n",
    "warnings.filterwarnings(\"ignore\", category=UserWarning, module=\"urllib3\")\n",
    "\n",
    "with pd.option_context(\"display.max_columns\", None, \"display.width\", 2000):\n",
    "    print(df.head(10))\n"
   ]
  }
 ],
 "metadata": {
  "kernelspec": {
   "display_name": ".venvAlmanack",
   "language": "python",
   "name": "python3"
  },
  "language_info": {
   "codemirror_mode": {
    "name": "ipython",
    "version": 3
   },
   "file_extension": ".py",
   "mimetype": "text/x-python",
   "name": "python",
   "nbconvert_exporter": "python",
   "pygments_lexer": "ipython3",
   "version": "3.12.6"
  }
 },
 "nbformat": 4,
 "nbformat_minor": 5
}
