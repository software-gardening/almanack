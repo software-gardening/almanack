{
 "cells": [
  {
   "cell_type": "code",
   "execution_count": null,
   "id": "aa0ab4dc",
   "metadata": {},
   "outputs": [
    {
     "name": "stderr",
     "output_type": "stream",
     "text": [
      "/Users/williamdavidson/.venvs/almanack/lib/python3.9/site-packages/urllib3/__init__.py:35: NotOpenSSLWarning: urllib3 v2 only supports OpenSSL 1.1.1+, currently the 'ssl' module is compiled with 'LibreSSL 2.8.3'. See: https://github.com/urllib3/urllib3/issues/3020\n",
      "  warnings.warn(\n",
      "/Users/williamdavidson/.venvs/almanack/lib/python3.9/site-packages/urllib3/__init__.py:35: NotOpenSSLWarning: urllib3 v2 only supports OpenSSL 1.1.1+, currently the 'ssl' module is compiled with 'LibreSSL 2.8.3'. See: https://github.com/urllib3/urllib3/issues/3020\n",
      "  warnings.warn(\n",
      "/Users/williamdavidson/.venvs/almanack/lib/python3.9/site-packages/urllib3/__init__.py:35: NotOpenSSLWarning: urllib3 v2 only supports OpenSSL 1.1.1+, currently the 'ssl' module is compiled with 'LibreSSL 2.8.3'. See: https://github.com/urllib3/urllib3/issues/3020\n",
      "  warnings.warn(\n",
      "/Users/williamdavidson/.venvs/almanack/lib/python3.9/site-packages/urllib3/__init__.py:35: NotOpenSSLWarning: urllib3 v2 only supports OpenSSL 1.1.1+, currently the 'ssl' module is compiled with 'LibreSSL 2.8.3'. See: https://github.com/urllib3/urllib3/issues/3020\n",
      "  warnings.warn(\n",
      "No coverage.py data found in the repository.\n"
     ]
    },
    {
     "name": "stdout",
     "output_type": "stream",
     "text": [
      "[1/10]\n",
      "[2/10]\n",
      "[3/10]\n",
      "[4/10]\n",
      "[5/10]\n"
     ]
    },
    {
     "name": "stderr",
     "output_type": "stream",
     "text": [
      "/Users/williamdavidson/.venvs/almanack/lib/python3.9/site-packages/urllib3/__init__.py:35: NotOpenSSLWarning: urllib3 v2 only supports OpenSSL 1.1.1+, currently the 'ssl' module is compiled with 'LibreSSL 2.8.3'. See: https://github.com/urllib3/urllib3/issues/3020\n",
      "  warnings.warn(\n",
      "/Users/williamdavidson/.venvs/almanack/lib/python3.9/site-packages/urllib3/__init__.py:35: NotOpenSSLWarning: urllib3 v2 only supports OpenSSL 1.1.1+, currently the 'ssl' module is compiled with 'LibreSSL 2.8.3'. See: https://github.com/urllib3/urllib3/issues/3020\n",
      "  warnings.warn(\n",
      "/Users/williamdavidson/.venvs/almanack/lib/python3.9/site-packages/urllib3/__init__.py:35: NotOpenSSLWarning: urllib3 v2 only supports OpenSSL 1.1.1+, currently the 'ssl' module is compiled with 'LibreSSL 2.8.3'. See: https://github.com/urllib3/urllib3/issues/3020\n",
      "  warnings.warn(\n",
      "/Users/williamdavidson/.venvs/almanack/lib/python3.9/site-packages/urllib3/__init__.py:35: NotOpenSSLWarning: urllib3 v2 only supports OpenSSL 1.1.1+, currently the 'ssl' module is compiled with 'LibreSSL 2.8.3'. See: https://github.com/urllib3/urllib3/issues/3020\n",
      "  warnings.warn(\n"
     ]
    },
    {
     "name": "stdout",
     "output_type": "stream",
     "text": [
      "[6/10]\n",
      "[7/10]\n"
     ]
    },
    {
     "name": "stderr",
     "output_type": "stream",
     "text": [
      "No coverage.py data found in the repository.\n"
     ]
    },
    {
     "name": "stdout",
     "output_type": "stream",
     "text": [
      "[8/10]\n",
      "[9/10]\n",
      "[10/10]\n"
     ]
    }
   ],
   "source": [
    "from concurrent.futures import ProcessPoolExecutor, as_completed\n",
    "import pandas as pd\n",
    "import json\n",
    "from pathlib import Path\n",
    "from almanack import process_repo_for_almanack\n",
    "\n",
    "\n",
    "def _sanitize_for_parquet(df: pd.DataFrame) -> pd.DataFrame:\n",
    "    \"\"\"Sanitize DataFrame for parquet compatibility\"\"\"\n",
    "    def _encode_if_needed(v):\n",
    "        if isinstance(v, (dict, list)):\n",
    "            return json.dumps(v) if v else None\n",
    "        return v\n",
    "\n",
    "    result_df = df.copy()\n",
    "\n",
    "    for col in result_df.columns:\n",
    "        if result_df[col].dtype == \"object\":\n",
    "            col_nonnull = result_df[col].dropna()\n",
    "            sample_vals = col_nonnull.iloc[:3] if len(col_nonnull) > 0 else []\n",
    "            needs_encoding = any(isinstance(val, (dict, list)) for val in sample_vals)\n",
    "            if needs_encoding:\n",
    "                result_df[col] = result_df[col].map(_encode_if_needed)\n",
    "\n",
    "    numeric_cols = [\n",
    "        \"checks_total\", \"checks_passed\", \"checks_pct\",\n",
    "        \"almanack-score\", \"almanack-score-numerator\", \"almanack-score-denominator\",\n",
    "    ]\n",
    "    for col in numeric_cols:\n",
    "        if col in result_df.columns:\n",
    "            result_df[col] = pd.to_numeric(result_df[col], errors=\"coerce\")\n",
    "\n",
    "    return result_df\n",
    "\n",
    "\n",
    "def repository_almanack_analysis(batch_size: int = 500, max_workers: int = 16, limit: int = None):\n",
    "    \"\"\"\n",
    "    Analyzes PubMed GitHub repositories and writes flattened Almanack metrics (checks included) to parquet.\n",
    "    \"\"\"\n",
    "    parquet_file = \"gather-pubmed-repos/pubmed_github_links.parquet\"\n",
    "\n",
    "    if not Path(parquet_file).exists():\n",
    "        raise FileNotFoundError(f\"Parquet file not found: {parquet_file}\")\n",
    "\n",
    "    df = pd.read_parquet(parquet_file)\n",
    "\n",
    "    if \"github_link\" not in df.columns:\n",
    "        raise ValueError(f\"'github_link' column not found. Available: {list(df.columns)}\")\n",
    "\n",
    "    repo_urls = df[\"github_link\"].drop_duplicates().dropna().tolist()\n",
    "\n",
    "    if limit:\n",
    "        repo_urls = repo_urls[:limit]\n",
    "\n",
    "    total_repos = len(repo_urls)\n",
    "\n",
    "    repo_count = 0\n",
    "    batch_number = 1\n",
    "    last_batch_results = None\n",
    "\n",
    "    for start in range(0, total_repos, batch_size):\n",
    "        end = min(start + batch_size, total_repos)\n",
    "        batch_urls = repo_urls[start:end]\n",
    "\n",
    "        with ProcessPoolExecutor(max_workers=max_workers) as executor:\n",
    "            futures = {\n",
    "                executor.submit(process_repo_for_almanack, repo_url): repo_url\n",
    "                for repo_url in batch_urls\n",
    "            }\n",
    "\n",
    "            batch_results = []\n",
    "\n",
    "            for future in as_completed(futures):\n",
    "                repo_count += 1\n",
    "                repo_url = futures[future]\n",
    "                try:\n",
    "                    result_dict = future.result()\n",
    "                    # Only print the incrementer\n",
    "                    print(f\"[{repo_count}/{total_repos}]\")\n",
    "                    batch_results.append(result_dict)\n",
    "                except Exception as e:\n",
    "                    print(f\"[{repo_count}/{total_repos}]\")\n",
    "                    batch_results.append({\n",
    "                        \"Repository URL\": repo_url,\n",
    "                        \"almanack_error\": str(e),\n",
    "                        \"checks_total\": None,\n",
    "                        \"checks_passed\": None,\n",
    "                        \"checks_pct\": None,\n",
    "                    })\n",
    "\n",
    "        df_batch = pd.DataFrame(batch_results)\n",
    "        df_batch = _sanitize_for_parquet(df_batch)\n",
    "\n",
    "        batch_filename = f\"repository_almanack_results_batch_{batch_number}.parquet\"\n",
    "        df_batch.to_parquet(batch_filename, compression=\"zstd\", index=False)\n",
    "\n",
    "        last_batch_results = df_batch\n",
    "        batch_number += 1\n",
    "\n",
    "    return last_batch_results\n",
    "\n",
    "\n",
    "def test_pilot_run(num_repos: int = 10, batch_size: int = 5):\n",
    "    try:\n",
    "        result_df = repository_almanack_analysis(\n",
    "            batch_size=batch_size,\n",
    "            max_workers=4,\n",
    "            limit=num_repos\n",
    "        )\n",
    "        return result_df\n",
    "    except Exception as e:\n",
    "        print(f\"Pilot test failed: {e}\")\n",
    "        raise\n",
    "\n",
    "\n",
    "if __name__ == \"__main__\":\n",
    "    pilot_df = test_pilot_run(num_repos=10, batch_size=5)\n"
   ]
  },
  {
   "cell_type": "code",
   "execution_count": 5,
   "id": "9b35f74d",
   "metadata": {},
   "outputs": [
    {
     "name": "stdout",
     "output_type": "stream",
     "text": [
      "                              Repository URL                                          repo-path  repo-commits  repo-file-count    repo-commit-time-range  repo-days-of-development  repo-commits-per-day      almanack-table-datetime            almanack-version repo-primary-language repo-primary-license repo-doi repo-doi-publication-date  repo-includes-readme  repo-includes-contributing  repo-includes-code-of-conduct  repo-includes-license  repo-is-citable  repo-default-branch-not-master  repo-includes-common-docs  repo-unique-contributors  repo-unique-contributors-past-year  repo-unique-contributors-past-182-days  repo-tags-count  repo-tags-count-past-year  repo-tags-count-past-182-days  repo-stargazers-count repo-uses-issues  repo-issues-open-count repo-pull-requests-enabled  repo-forks-count  repo-subscribers-count repo-packages-ecosystems  repo-packages-ecosystems-count  repo-packages-versions-count repo-social-media-platforms  repo-social-media-platforms-count repo-doi-valid-format repo-doi-https-resolvable repo-doi-cited-by-count repo-days-between-doi-publication-date-and-latest-commit  repo-gh-workflow-success-ratio  repo-gh-workflow-succeeding-runs  repo-gh-workflow-failing-runs  repo-gh-workflow-queried-total repo-code-coverage-percent repo-date-of-last-coverage-run repo-days-between-last-coverage-run-latest-commit repo-code-coverage-total-lines repo-code-coverage-executed-lines  repo-agg-info-entropy  almanack-score  almanack-score-numerator  almanack-score-denominator                           repo-almanack-score_json repo-packages-ecosystems_json repo-social-media-platforms_json  checks_total  checks_passed  checks_pct\n",
      "0  https://github.com/WormBase/wormcells-viz  /private/var/folders/wl/tr6p4_313g5f1hh3lwbxmy...           164               67  [2021-03-19, 2023-11-30]                       987              0.166160  2025-09-04T21:59:02.200367Z  0.0.0.post224.dev0+d5e7a3b            JavaScript                  mit     None                      None                  True                       False                          False                   True            False                            True                      False                         3                                   0                                       0                0                          0                              0                    3.0             True                    16.0                       True               0.0                     3.0                     None                               0                             0                        None                                  0                  None                      None                    None                                               None                                   NaN                               NaN                            NaN                             NaN                       None                           None                                              None                           None                              None               0.025155        0.454545                         5                          11  {\"almanack-score-numerator\": 5, \"almanack-scor...                            []                               []            11              5   45.454545\n",
      "1         https://github.com/WormBase/scdefg  /private/var/folders/wl/tr6p4_313g5f1hh3lwbxmy...           103               18  [2021-01-29, 2022-02-02]                       370              0.278378  2025-09-04T21:59:02.200375Z  0.0.0.post224.dev0+d5e7a3b                Python            unlicense     None                      None                  True                       False                          False                   True            False                            True                      False                         5                                   0                                       0                1                          0                              0                    3.0             True                     3.0                       True               1.0                     3.0                     None                               0                             0                        None                                  0                  None                      None                    None                                               None                                   NaN                               NaN                            NaN                             NaN                       None                           None                                              None                           None                              None               0.153966        0.454545                         5                          11  {\"almanack-score-numerator\": 5, \"almanack-scor...                            []                               []            11              5   45.454545\n",
      "2        https://github.com/abacus-gene/paml  /private/var/folders/wl/tr6p4_313g5f1hh3lwbxmy...            80              220  [2014-04-13, 2025-09-04]                      4163              0.019217  2025-09-04T21:59:02.200367Z  0.0.0.post224.dev0+d5e7a3b                     C              gpl-3.0     None                      None                  True                       False                          False                   True             True                           False                      False                         4                                   3                                       3               10                          2                              2                  167.0             True                     6.0                       True              26.0                     8.0                     None                               0                             0                        None                                  0                  None                      None                    None                                               None                                   NaN                               NaN                            NaN                             NaN                       None                           None                                              None                           None                              None               0.020901        0.454545                         5                          11  {\"almanack-score-numerator\": 5, \"almanack-scor...                            []                               []            11              5   45.454545\n",
      "3        https://github.com/theislab/anndata  /private/var/folders/wl/tr6p4_313g5f1hh3lwbxmy...          1563              210  [2017-08-11, 2025-09-02]                      2945              0.530730  2025-09-04T21:59:02.200375Z  0.0.0.post224.dev0+d5e7a3b                  None                 None     None                      None                  True                       False                          False                   True             True                            True                       True                        58                                  15                                      10               96                         14                              8                    NaN             None                     NaN                       None               NaN                     NaN                     None                               2                            11                        None                                  0                  None                      None                    None                                               None                                  0.91                             100.0                           91.0                             9.0                       None                           None                                              None                           None                              None               0.029621        0.454545                         5                          11  {\"almanack-score-numerator\": 5, \"almanack-scor...            [\"conda\", \"spack\"]                               []            11              5   45.454545\n",
      "4         https://github.com/theislab/Scanpy  /private/var/folders/wl/tr6p4_313g5f1hh3lwbxmy...          3636              625  [2017-01-29, 2025-09-04]                      3141              1.157593  2025-09-04T21:59:02.200385Z  0.0.0.post224.dev0+d5e7a3b                  None                 None     None                      None                  True                        True                          False                   True             True                            True                       True                       174                                  27                                      16               95                          9                              4                    NaN             None                     NaN                       None               NaN                     NaN                     None                               0                             0                        None                                  0                  None                      None                    None                                               None                                  0.76                             100.0                           76.0                            24.0                       None                           None                                              None                           None                              None               0.010850        0.545455                         6                          11  {\"almanack-score-numerator\": 6, \"almanack-scor...                            []                               []            11              6   54.545455\n"
     ]
    }
   ],
   "source": [
    "import pandas as pd\n",
    "\n",
    "df = pd.read_parquet(\"repository_almanack_results_batch_1.parquet\")\n",
    "\n",
    "# Show all columns for the first few rows\n",
    "with pd.option_context(\"display.max_columns\", None, \"display.width\", 2000):\n",
    "    print(df.head(10))\n"
   ]
  }
 ],
 "metadata": {
  "kernelspec": {
   "display_name": "almanack",
   "language": "python",
   "name": "python3"
  },
  "language_info": {
   "codemirror_mode": {
    "name": "ipython",
    "version": 3
   },
   "file_extension": ".py",
   "mimetype": "text/x-python",
   "name": "python",
   "nbconvert_exporter": "python",
   "pygments_lexer": "ipython3",
   "version": "3.9.6"
  }
 },
 "nbformat": 4,
 "nbformat_minor": 5
}
