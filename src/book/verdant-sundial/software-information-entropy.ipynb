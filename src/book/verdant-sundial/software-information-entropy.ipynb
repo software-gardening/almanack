{
 "cells": [
  {
   "cell_type": "markdown",
   "id": "4d35a184-789b-4f59-872d-b0fe94f7934e",
   "metadata": {},
   "source": [
    "# Software Information Entropy"
   ]
  },
  {
   "cell_type": "code",
   "execution_count": 9,
   "id": "20064744-b294-42d8-8104-a24b8ab12efe",
   "metadata": {},
   "outputs": [
    {
     "data": {
      "text/html": [
       "<div>\n",
       "<style scoped>\n",
       "    .dataframe tbody tr th:only-of-type {\n",
       "        vertical-align: middle;\n",
       "    }\n",
       "\n",
       "    .dataframe tbody tr th {\n",
       "        vertical-align: top;\n",
       "    }\n",
       "\n",
       "    .dataframe thead th {\n",
       "        text-align: right;\n",
       "    }\n",
       "</style>\n",
       "<table border=\"1\" class=\"dataframe\">\n",
       "  <thead>\n",
       "    <tr style=\"text-align: right;\">\n",
       "      <th></th>\n",
       "      <th>PMID</th>\n",
       "      <th>article_date</th>\n",
       "      <th>title</th>\n",
       "      <th>authors</th>\n",
       "      <th>github_link</th>\n",
       "    </tr>\n",
       "  </thead>\n",
       "  <tbody>\n",
       "    <tr>\n",
       "      <th>0</th>\n",
       "      <td>29409532</td>\n",
       "      <td>2018-02-06</td>\n",
       "      <td>SCANPY: large-scale single-cell gene expressio...</td>\n",
       "      <td>Wolf, Angerer, Theis</td>\n",
       "      <td>https://github.com/theislab/Scanpy</td>\n",
       "    </tr>\n",
       "    <tr>\n",
       "      <th>1</th>\n",
       "      <td>29409532</td>\n",
       "      <td>2018-02-06</td>\n",
       "      <td>SCANPY: large-scale single-cell gene expressio...</td>\n",
       "      <td>Wolf, Angerer, Theis</td>\n",
       "      <td>https://github.com/theislab/anndata</td>\n",
       "    </tr>\n",
       "    <tr>\n",
       "      <th>2</th>\n",
       "      <td>35814290</td>\n",
       "      <td>2022-03-28</td>\n",
       "      <td>WormBase single-cell tools.</td>\n",
       "      <td>da Veiga Beltrame, Arnaboldi, Sternberg</td>\n",
       "      <td>https://github.com/WormBase/scdefg</td>\n",
       "    </tr>\n",
       "    <tr>\n",
       "      <th>3</th>\n",
       "      <td>35814290</td>\n",
       "      <td>2022-03-28</td>\n",
       "      <td>WormBase single-cell tools.</td>\n",
       "      <td>da Veiga Beltrame, Arnaboldi, Sternberg</td>\n",
       "      <td>https://github.com/WormBase/wormcells-viz</td>\n",
       "    </tr>\n",
       "    <tr>\n",
       "      <th>4</th>\n",
       "      <td>37096789</td>\n",
       "      <td>None</td>\n",
       "      <td>Beginner's Guide on the Use of PAML to Detect ...</td>\n",
       "      <td>Álvarez-Carretero, Kapli, Yang</td>\n",
       "      <td>https://github.com/abacus-gene/paml</td>\n",
       "    </tr>\n",
       "    <tr>\n",
       "      <th>...</th>\n",
       "      <td>...</td>\n",
       "      <td>...</td>\n",
       "      <td>...</td>\n",
       "      <td>...</td>\n",
       "      <td>...</td>\n",
       "    </tr>\n",
       "    <tr>\n",
       "      <th>10237</th>\n",
       "      <td>37397020</td>\n",
       "      <td>2023-06-26</td>\n",
       "      <td>Multi-Object Tracking in Heterogeneous environ...</td>\n",
       "      <td>Rathore, Sharma, Shah, Sharma, Torney, Guttal</td>\n",
       "      <td>https://github.com/tee-lab/MOTHe-GUI</td>\n",
       "    </tr>\n",
       "    <tr>\n",
       "      <th>10238</th>\n",
       "      <td>37387130</td>\n",
       "      <td>None</td>\n",
       "      <td>SpatialSort: a Bayesian model for clustering a...</td>\n",
       "      <td>Lee, Chern, Nissen, Wang, , Huang, Gandhi, Bou...</td>\n",
       "      <td>https://github.com/Roth-Lab/SpatialSort</td>\n",
       "    </tr>\n",
       "    <tr>\n",
       "      <th>10239</th>\n",
       "      <td>37382572</td>\n",
       "      <td>None</td>\n",
       "      <td>Robust joint clustering of multi-omics single-...</td>\n",
       "      <td>Jiang, Zhan, Ching, Chen</td>\n",
       "      <td>https://github.com/jianghruc/scHoML</td>\n",
       "    </tr>\n",
       "    <tr>\n",
       "      <th>10240</th>\n",
       "      <td>37369035</td>\n",
       "      <td>None</td>\n",
       "      <td>Hierarchical graph transformer with contrastiv...</td>\n",
       "      <td>Gu, Luo, Chen, Deng, Lai</td>\n",
       "      <td>https://github.com/ZhonghuiGu/HEAL</td>\n",
       "    </tr>\n",
       "    <tr>\n",
       "      <th>10241</th>\n",
       "      <td>37359539</td>\n",
       "      <td>2023-06-08</td>\n",
       "      <td>Trapalyzer: a computer program for quantitativ...</td>\n",
       "      <td>Ciach, Bokota, Manda-Handzlik, Kuźmicka, Demko...</td>\n",
       "      <td>https://github.com/Czaki/Trapalyzer</td>\n",
       "    </tr>\n",
       "  </tbody>\n",
       "</table>\n",
       "<p>9808 rows × 5 columns</p>\n",
       "</div>"
      ],
      "text/plain": [
       "           PMID article_date  \\\n",
       "0      29409532   2018-02-06   \n",
       "1      29409532   2018-02-06   \n",
       "2      35814290   2022-03-28   \n",
       "3      35814290   2022-03-28   \n",
       "4      37096789         None   \n",
       "...         ...          ...   \n",
       "10237  37397020   2023-06-26   \n",
       "10238  37387130         None   \n",
       "10239  37382572         None   \n",
       "10240  37369035         None   \n",
       "10241  37359539   2023-06-08   \n",
       "\n",
       "                                                   title  \\\n",
       "0      SCANPY: large-scale single-cell gene expressio...   \n",
       "1      SCANPY: large-scale single-cell gene expressio...   \n",
       "2                            WormBase single-cell tools.   \n",
       "3                            WormBase single-cell tools.   \n",
       "4      Beginner's Guide on the Use of PAML to Detect ...   \n",
       "...                                                  ...   \n",
       "10237  Multi-Object Tracking in Heterogeneous environ...   \n",
       "10238  SpatialSort: a Bayesian model for clustering a...   \n",
       "10239  Robust joint clustering of multi-omics single-...   \n",
       "10240  Hierarchical graph transformer with contrastiv...   \n",
       "10241  Trapalyzer: a computer program for quantitativ...   \n",
       "\n",
       "                                                 authors  \\\n",
       "0                                   Wolf, Angerer, Theis   \n",
       "1                                   Wolf, Angerer, Theis   \n",
       "2                da Veiga Beltrame, Arnaboldi, Sternberg   \n",
       "3                da Veiga Beltrame, Arnaboldi, Sternberg   \n",
       "4                         Álvarez-Carretero, Kapli, Yang   \n",
       "...                                                  ...   \n",
       "10237      Rathore, Sharma, Shah, Sharma, Torney, Guttal   \n",
       "10238  Lee, Chern, Nissen, Wang, , Huang, Gandhi, Bou...   \n",
       "10239                           Jiang, Zhan, Ching, Chen   \n",
       "10240                           Gu, Luo, Chen, Deng, Lai   \n",
       "10241  Ciach, Bokota, Manda-Handzlik, Kuźmicka, Demko...   \n",
       "\n",
       "                                     github_link  \n",
       "0             https://github.com/theislab/Scanpy  \n",
       "1            https://github.com/theislab/anndata  \n",
       "2             https://github.com/WormBase/scdefg  \n",
       "3      https://github.com/WormBase/wormcells-viz  \n",
       "4            https://github.com/abacus-gene/paml  \n",
       "...                                          ...  \n",
       "10237       https://github.com/tee-lab/MOTHe-GUI  \n",
       "10238    https://github.com/Roth-Lab/SpatialSort  \n",
       "10239        https://github.com/jianghruc/scHoML  \n",
       "10240         https://github.com/ZhonghuiGu/HEAL  \n",
       "10241        https://github.com/Czaki/Trapalyzer  \n",
       "\n",
       "[9808 rows x 5 columns]"
      ]
     },
     "execution_count": 9,
     "metadata": {},
     "output_type": "execute_result"
    }
   ],
   "source": [
    "import math\n",
    "import pathlib\n",
    "import shutil\n",
    "import tempfile\n",
    "from concurrent.futures import ProcessPoolExecutor, as_completed\n",
    "\n",
    "import git\n",
    "import pandas as pd\n",
    "import plotly.express as px\n",
    "\n",
    "# read example data which includes pubmed github links detected from article abstracts\n",
    "pd.read_parquet(\"../../../tests/data/examples/pubmed/pubmed_github_links.parquet\")"
   ]
  },
  {
   "cell_type": "markdown",
   "id": "b60573a4",
   "metadata": {},
   "source": [
    "### Lines of Code Changed"
   ]
  },
  {
   "cell_type": "code",
   "execution_count": 10,
   "id": "dc3cb9f6",
   "metadata": {},
   "outputs": [],
   "source": [
    "def calculate_loc_changes(\n",
    "    repo_path: pathlib.Path, source: str, target: str, file_names: list[str]\n",
    ") -> dict[str, int]:\n",
    "    \"\"\"\n",
    "    Finds the total number of code lines changed for each specified file between two commits.\n",
    "\n",
    "    Args:\n",
    "        repo_path (pathlib.Path): The path to the git repository.\n",
    "        source (str): The source commit hash.\n",
    "        target (str): The target commit hash.\n",
    "        file_names (list[str]): List of file names to calculate changes for.\n",
    "\n",
    "    Returns:\n",
    "        dict[str, int]: A dictionary where the key is the filename, and the value is the lines changed (added and removed).\n",
    "    \"\"\"\n",
    "    repo = git.Repo(repo_path)\n",
    "    changes = {}\n",
    "\n",
    "    for file_name in file_names:\n",
    "        # Get the diff output for the file between the two commits\n",
    "        diff_output = repo.git.diff(source, target, \"--numstat\", \"--\", file_name)\n",
    "        lines_changed = 0\n",
    "        for line in diff_output.splitlines():\n",
    "            diff_line = line.split()\n",
    "            # Check if the line has exactly three parts: (addded,removed,file_path) and that the first two are numeric\n",
    "            if (\n",
    "                len(diff_line) == 3\n",
    "                and diff_line[0].isdigit()\n",
    "                and diff_line[1].isdigit()\n",
    "            ):\n",
    "                added, removed, _ = diff_line\n",
    "                lines_changed += int(added) + int(removed)\n",
    "\n",
    "        changes[file_name] = lines_changed\n",
    "\n",
    "    return changes"
   ]
  },
  {
   "cell_type": "markdown",
   "id": "2f7c6929",
   "metadata": {},
   "source": [
    "### Normalized Entropy Calculation "
   ]
  },
  {
   "cell_type": "code",
   "execution_count": 11,
   "id": "d715ca03",
   "metadata": {},
   "outputs": [],
   "source": [
    "def calculate_normalized_entropy(\n",
    "    repo_path: pathlib.Path,\n",
    "    source_commit: str,\n",
    "    target_commit: str,\n",
    "    file_names: list[str],\n",
    ") -> dict[str, float]:\n",
    "    \"\"\"\n",
    "    Calculates the entropy of changes in specified files between two commits,\n",
    "    inspired by Shannon's entropy formula. Normalized relative to the total lines\n",
    "    of code changes across specified files.\n",
    "\n",
    "    Args:\n",
    "        repo_path (str): The file path to the git repository.\n",
    "        source_commit (str): The git hash of the source commit.\n",
    "        target_commit (str): The git hash of the target commit.\n",
    "        file_names (list[str]): List of file names to calculate entropy for.\n",
    "\n",
    "    Returns:\n",
    "        dict[str, float]: A dictionary mapping file names to their calculated entropy.\n",
    "\n",
    "    Application of Entropy Calculation:\n",
    "        Entropy measures the uncertainty in a given system. Calculating the entropy\n",
    "        of lines of code (LoC) changed reveals the variability and complexity of\n",
    "        modifications in each file. Higher entropy values indicate more unpredictable\n",
    "        changes, helping identify potentially unstable code areas.\n",
    "\n",
    "    \"\"\"\n",
    "    loc_changes = calculate_loc_changes(\n",
    "        repo_path, source_commit, target_commit, file_names\n",
    "    )\n",
    "\n",
    "    # Calculate total lines of code changes across all specified files\n",
    "    total_changes = sum(loc_changes.values())\n",
    "\n",
    "    # Calculate the entropy for each file, relative to total changes\n",
    "    entropy_calculation = {\n",
    "        file_name: (\n",
    "            -(\n",
    "                (loc_changes[file_name] / total_changes)\n",
    "                * math.log2(\n",
    "                    loc_changes[file_name] / total_changes\n",
    "                )  # Entropy Calculation\n",
    "            )\n",
    "            if loc_changes[file_name] != 0\n",
    "            and total_changes\n",
    "            != 0  # Avoid division by zero and ensure valid entropy calculation\n",
    "            else 0.0\n",
    "        )\n",
    "        for file_name in loc_changes  # Iterate over each file in loc_changes dictionary\n",
    "    }\n",
    "    # Calculate total entropy\n",
    "    total_entropy = sum(entropy_calculation.values())\n",
    "\n",
    "    # Normalize total entropy to range [0, 1]\n",
    "    max_entropy = len(loc_changes)\n",
    "    normalized_total_entropy = total_entropy / max_entropy\n",
    "\n",
    "    return normalized_total_entropy"
   ]
  },
  {
   "cell_type": "markdown",
   "id": "4a7e76f8",
   "metadata": {},
   "source": [
    "### Proccess Repository"
   ]
  },
  {
   "cell_type": "code",
   "execution_count": 12,
   "id": "0a269d93",
   "metadata": {},
   "outputs": [],
   "source": [
    "def process_repository(repo_url: str) -> (float, int):\n",
    "    temp_dir = tempfile.mkdtemp()\n",
    "\n",
    "    try:\n",
    "        # Clone the repository\n",
    "        repo = git.Repo.clone_from(repo_url, temp_dir)\n",
    "        repo_path = pathlib.Path(temp_dir)\n",
    "\n",
    "        # Get the default branch\n",
    "        default_branch = repo.active_branch.name\n",
    "\n",
    "        # Get the first and most recent commits\n",
    "        commits = list(repo.iter_commits(default_branch))\n",
    "        first_commit = commits[-1]\n",
    "        most_recent_commit = commits[0]\n",
    "\n",
    "        # Calculate the total existence time (in days)\n",
    "        time_of_existence = (\n",
    "            most_recent_commit.committed_datetime - first_commit.committed_datetime\n",
    "        ).days\n",
    "\n",
    "        # Find all files that have been edited\n",
    "        file_names = set()\n",
    "        for commit in commits:\n",
    "            for diff in commit.diff(None):\n",
    "                if diff.a_path:\n",
    "                    file_names.add(diff.a_path)\n",
    "                if diff.b_path:\n",
    "                    file_names.add(diff.b_path)\n",
    "        file_names = list(file_names)\n",
    "\n",
    "        # Calculate the total normalized entropy\n",
    "        normalized_total_entropy = calculate_normalized_entropy(\n",
    "            repo_path, first_commit.hexsha, most_recent_commit.hexsha, file_names\n",
    "        )\n",
    "        return normalized_total_entropy, time_of_existence\n",
    "\n",
    "    finally:\n",
    "        # Delete the cloned repository\n",
    "        shutil.rmtree(temp_dir)"
   ]
  },
  {
   "cell_type": "markdown",
   "id": "6b0c6931",
   "metadata": {},
   "source": [
    "### Respository Analysis and Visualization"
   ]
  },
  {
   "cell_type": "code",
   "execution_count": 13,
   "id": "13e6e949",
   "metadata": {},
   "outputs": [
    {
     "name": "stdout",
     "output_type": "stream",
     "text": [
      "Repository: https://github.com/jtchavisIII/CU-MSDSp, Normalized Total Entropy: 0.1576, Time of Existence: 245 days\n",
      "Repository: https://github.com/DominikBuchner/apscale, Normalized Total Entropy: 0.0831, Time of Existence: 918 days\n",
      "Repository: https://github.com/SunXQlab/EnDecon, Normalized Total Entropy: 0.0583, Time of Existence: 107 days\n",
      "Repository: https://github.com/ollisa/BELMM, Normalized Total Entropy: 0.0536, Time of Existence: 134 days\n"
     ]
    },
    {
     "data": {
      "application/vnd.plotly.v1+json": {
       "config": {
        "plotlyServerURL": "https://plot.ly"
       },
       "data": [
        {
         "hovertemplate": "Date of First commit - Publication Date=%{x}<br>Normalized Total Entropy=%{y}<extra></extra>",
         "legendgroup": "",
         "marker": {
          "color": "#636efa",
          "line": {
           "color": "Black",
           "width": 1
          },
          "opacity": 0.6,
          "size": 5,
          "symbol": "circle"
         },
         "mode": "markers",
         "name": "",
         "orientation": "v",
         "showlegend": false,
         "type": "scatter",
         "x": [
          245,
          918,
          107,
          134
         ],
         "xaxis": "x",
         "y": [
          0.15758082361964107,
          0.08312827459038516,
          0.05830500350634033,
          0.05358095114295318
         ],
         "yaxis": "y"
        }
       ],
       "layout": {
        "height": 600,
        "legend": {
         "tracegroupgap": 0
        },
        "margin": {
         "b": 20,
         "l": 20,
         "r": 20,
         "t": 50
        },
        "template": {
         "data": {
          "bar": [
           {
            "error_x": {
             "color": "#2a3f5f"
            },
            "error_y": {
             "color": "#2a3f5f"
            },
            "marker": {
             "line": {
              "color": "#E5ECF6",
              "width": 0.5
             },
             "pattern": {
              "fillmode": "overlay",
              "size": 10,
              "solidity": 0.2
             }
            },
            "type": "bar"
           }
          ],
          "barpolar": [
           {
            "marker": {
             "line": {
              "color": "#E5ECF6",
              "width": 0.5
             },
             "pattern": {
              "fillmode": "overlay",
              "size": 10,
              "solidity": 0.2
             }
            },
            "type": "barpolar"
           }
          ],
          "carpet": [
           {
            "aaxis": {
             "endlinecolor": "#2a3f5f",
             "gridcolor": "white",
             "linecolor": "white",
             "minorgridcolor": "white",
             "startlinecolor": "#2a3f5f"
            },
            "baxis": {
             "endlinecolor": "#2a3f5f",
             "gridcolor": "white",
             "linecolor": "white",
             "minorgridcolor": "white",
             "startlinecolor": "#2a3f5f"
            },
            "type": "carpet"
           }
          ],
          "choropleth": [
           {
            "colorbar": {
             "outlinewidth": 0,
             "ticks": ""
            },
            "type": "choropleth"
           }
          ],
          "contour": [
           {
            "colorbar": {
             "outlinewidth": 0,
             "ticks": ""
            },
            "colorscale": [
             [
              0,
              "#0d0887"
             ],
             [
              0.1111111111111111,
              "#46039f"
             ],
             [
              0.2222222222222222,
              "#7201a8"
             ],
             [
              0.3333333333333333,
              "#9c179e"
             ],
             [
              0.4444444444444444,
              "#bd3786"
             ],
             [
              0.5555555555555556,
              "#d8576b"
             ],
             [
              0.6666666666666666,
              "#ed7953"
             ],
             [
              0.7777777777777778,
              "#fb9f3a"
             ],
             [
              0.8888888888888888,
              "#fdca26"
             ],
             [
              1,
              "#f0f921"
             ]
            ],
            "type": "contour"
           }
          ],
          "contourcarpet": [
           {
            "colorbar": {
             "outlinewidth": 0,
             "ticks": ""
            },
            "type": "contourcarpet"
           }
          ],
          "heatmap": [
           {
            "colorbar": {
             "outlinewidth": 0,
             "ticks": ""
            },
            "colorscale": [
             [
              0,
              "#0d0887"
             ],
             [
              0.1111111111111111,
              "#46039f"
             ],
             [
              0.2222222222222222,
              "#7201a8"
             ],
             [
              0.3333333333333333,
              "#9c179e"
             ],
             [
              0.4444444444444444,
              "#bd3786"
             ],
             [
              0.5555555555555556,
              "#d8576b"
             ],
             [
              0.6666666666666666,
              "#ed7953"
             ],
             [
              0.7777777777777778,
              "#fb9f3a"
             ],
             [
              0.8888888888888888,
              "#fdca26"
             ],
             [
              1,
              "#f0f921"
             ]
            ],
            "type": "heatmap"
           }
          ],
          "heatmapgl": [
           {
            "colorbar": {
             "outlinewidth": 0,
             "ticks": ""
            },
            "colorscale": [
             [
              0,
              "#0d0887"
             ],
             [
              0.1111111111111111,
              "#46039f"
             ],
             [
              0.2222222222222222,
              "#7201a8"
             ],
             [
              0.3333333333333333,
              "#9c179e"
             ],
             [
              0.4444444444444444,
              "#bd3786"
             ],
             [
              0.5555555555555556,
              "#d8576b"
             ],
             [
              0.6666666666666666,
              "#ed7953"
             ],
             [
              0.7777777777777778,
              "#fb9f3a"
             ],
             [
              0.8888888888888888,
              "#fdca26"
             ],
             [
              1,
              "#f0f921"
             ]
            ],
            "type": "heatmapgl"
           }
          ],
          "histogram": [
           {
            "marker": {
             "pattern": {
              "fillmode": "overlay",
              "size": 10,
              "solidity": 0.2
             }
            },
            "type": "histogram"
           }
          ],
          "histogram2d": [
           {
            "colorbar": {
             "outlinewidth": 0,
             "ticks": ""
            },
            "colorscale": [
             [
              0,
              "#0d0887"
             ],
             [
              0.1111111111111111,
              "#46039f"
             ],
             [
              0.2222222222222222,
              "#7201a8"
             ],
             [
              0.3333333333333333,
              "#9c179e"
             ],
             [
              0.4444444444444444,
              "#bd3786"
             ],
             [
              0.5555555555555556,
              "#d8576b"
             ],
             [
              0.6666666666666666,
              "#ed7953"
             ],
             [
              0.7777777777777778,
              "#fb9f3a"
             ],
             [
              0.8888888888888888,
              "#fdca26"
             ],
             [
              1,
              "#f0f921"
             ]
            ],
            "type": "histogram2d"
           }
          ],
          "histogram2dcontour": [
           {
            "colorbar": {
             "outlinewidth": 0,
             "ticks": ""
            },
            "colorscale": [
             [
              0,
              "#0d0887"
             ],
             [
              0.1111111111111111,
              "#46039f"
             ],
             [
              0.2222222222222222,
              "#7201a8"
             ],
             [
              0.3333333333333333,
              "#9c179e"
             ],
             [
              0.4444444444444444,
              "#bd3786"
             ],
             [
              0.5555555555555556,
              "#d8576b"
             ],
             [
              0.6666666666666666,
              "#ed7953"
             ],
             [
              0.7777777777777778,
              "#fb9f3a"
             ],
             [
              0.8888888888888888,
              "#fdca26"
             ],
             [
              1,
              "#f0f921"
             ]
            ],
            "type": "histogram2dcontour"
           }
          ],
          "mesh3d": [
           {
            "colorbar": {
             "outlinewidth": 0,
             "ticks": ""
            },
            "type": "mesh3d"
           }
          ],
          "parcoords": [
           {
            "line": {
             "colorbar": {
              "outlinewidth": 0,
              "ticks": ""
             }
            },
            "type": "parcoords"
           }
          ],
          "pie": [
           {
            "automargin": true,
            "type": "pie"
           }
          ],
          "scatter": [
           {
            "fillpattern": {
             "fillmode": "overlay",
             "size": 10,
             "solidity": 0.2
            },
            "type": "scatter"
           }
          ],
          "scatter3d": [
           {
            "line": {
             "colorbar": {
              "outlinewidth": 0,
              "ticks": ""
             }
            },
            "marker": {
             "colorbar": {
              "outlinewidth": 0,
              "ticks": ""
             }
            },
            "type": "scatter3d"
           }
          ],
          "scattercarpet": [
           {
            "marker": {
             "colorbar": {
              "outlinewidth": 0,
              "ticks": ""
             }
            },
            "type": "scattercarpet"
           }
          ],
          "scattergeo": [
           {
            "marker": {
             "colorbar": {
              "outlinewidth": 0,
              "ticks": ""
             }
            },
            "type": "scattergeo"
           }
          ],
          "scattergl": [
           {
            "marker": {
             "colorbar": {
              "outlinewidth": 0,
              "ticks": ""
             }
            },
            "type": "scattergl"
           }
          ],
          "scattermapbox": [
           {
            "marker": {
             "colorbar": {
              "outlinewidth": 0,
              "ticks": ""
             }
            },
            "type": "scattermapbox"
           }
          ],
          "scatterpolar": [
           {
            "marker": {
             "colorbar": {
              "outlinewidth": 0,
              "ticks": ""
             }
            },
            "type": "scatterpolar"
           }
          ],
          "scatterpolargl": [
           {
            "marker": {
             "colorbar": {
              "outlinewidth": 0,
              "ticks": ""
             }
            },
            "type": "scatterpolargl"
           }
          ],
          "scatterternary": [
           {
            "marker": {
             "colorbar": {
              "outlinewidth": 0,
              "ticks": ""
             }
            },
            "type": "scatterternary"
           }
          ],
          "surface": [
           {
            "colorbar": {
             "outlinewidth": 0,
             "ticks": ""
            },
            "colorscale": [
             [
              0,
              "#0d0887"
             ],
             [
              0.1111111111111111,
              "#46039f"
             ],
             [
              0.2222222222222222,
              "#7201a8"
             ],
             [
              0.3333333333333333,
              "#9c179e"
             ],
             [
              0.4444444444444444,
              "#bd3786"
             ],
             [
              0.5555555555555556,
              "#d8576b"
             ],
             [
              0.6666666666666666,
              "#ed7953"
             ],
             [
              0.7777777777777778,
              "#fb9f3a"
             ],
             [
              0.8888888888888888,
              "#fdca26"
             ],
             [
              1,
              "#f0f921"
             ]
            ],
            "type": "surface"
           }
          ],
          "table": [
           {
            "cells": {
             "fill": {
              "color": "#EBF0F8"
             },
             "line": {
              "color": "white"
             }
            },
            "header": {
             "fill": {
              "color": "#C8D4E3"
             },
             "line": {
              "color": "white"
             }
            },
            "type": "table"
           }
          ]
         },
         "layout": {
          "annotationdefaults": {
           "arrowcolor": "#2a3f5f",
           "arrowhead": 0,
           "arrowwidth": 1
          },
          "autotypenumbers": "strict",
          "coloraxis": {
           "colorbar": {
            "outlinewidth": 0,
            "ticks": ""
           }
          },
          "colorscale": {
           "diverging": [
            [
             0,
             "#8e0152"
            ],
            [
             0.1,
             "#c51b7d"
            ],
            [
             0.2,
             "#de77ae"
            ],
            [
             0.3,
             "#f1b6da"
            ],
            [
             0.4,
             "#fde0ef"
            ],
            [
             0.5,
             "#f7f7f7"
            ],
            [
             0.6,
             "#e6f5d0"
            ],
            [
             0.7,
             "#b8e186"
            ],
            [
             0.8,
             "#7fbc41"
            ],
            [
             0.9,
             "#4d9221"
            ],
            [
             1,
             "#276419"
            ]
           ],
           "sequential": [
            [
             0,
             "#0d0887"
            ],
            [
             0.1111111111111111,
             "#46039f"
            ],
            [
             0.2222222222222222,
             "#7201a8"
            ],
            [
             0.3333333333333333,
             "#9c179e"
            ],
            [
             0.4444444444444444,
             "#bd3786"
            ],
            [
             0.5555555555555556,
             "#d8576b"
            ],
            [
             0.6666666666666666,
             "#ed7953"
            ],
            [
             0.7777777777777778,
             "#fb9f3a"
            ],
            [
             0.8888888888888888,
             "#fdca26"
            ],
            [
             1,
             "#f0f921"
            ]
           ],
           "sequentialminus": [
            [
             0,
             "#0d0887"
            ],
            [
             0.1111111111111111,
             "#46039f"
            ],
            [
             0.2222222222222222,
             "#7201a8"
            ],
            [
             0.3333333333333333,
             "#9c179e"
            ],
            [
             0.4444444444444444,
             "#bd3786"
            ],
            [
             0.5555555555555556,
             "#d8576b"
            ],
            [
             0.6666666666666666,
             "#ed7953"
            ],
            [
             0.7777777777777778,
             "#fb9f3a"
            ],
            [
             0.8888888888888888,
             "#fdca26"
            ],
            [
             1,
             "#f0f921"
            ]
           ]
          },
          "colorway": [
           "#636efa",
           "#EF553B",
           "#00cc96",
           "#ab63fa",
           "#FFA15A",
           "#19d3f3",
           "#FF6692",
           "#B6E880",
           "#FF97FF",
           "#FECB52"
          ],
          "font": {
           "color": "#2a3f5f"
          },
          "geo": {
           "bgcolor": "white",
           "lakecolor": "white",
           "landcolor": "#E5ECF6",
           "showlakes": true,
           "showland": true,
           "subunitcolor": "white"
          },
          "hoverlabel": {
           "align": "left"
          },
          "hovermode": "closest",
          "mapbox": {
           "style": "light"
          },
          "paper_bgcolor": "white",
          "plot_bgcolor": "#E5ECF6",
          "polar": {
           "angularaxis": {
            "gridcolor": "white",
            "linecolor": "white",
            "ticks": ""
           },
           "bgcolor": "#E5ECF6",
           "radialaxis": {
            "gridcolor": "white",
            "linecolor": "white",
            "ticks": ""
           }
          },
          "scene": {
           "xaxis": {
            "backgroundcolor": "#E5ECF6",
            "gridcolor": "white",
            "gridwidth": 2,
            "linecolor": "white",
            "showbackground": true,
            "ticks": "",
            "zerolinecolor": "white"
           },
           "yaxis": {
            "backgroundcolor": "#E5ECF6",
            "gridcolor": "white",
            "gridwidth": 2,
            "linecolor": "white",
            "showbackground": true,
            "ticks": "",
            "zerolinecolor": "white"
           },
           "zaxis": {
            "backgroundcolor": "#E5ECF6",
            "gridcolor": "white",
            "gridwidth": 2,
            "linecolor": "white",
            "showbackground": true,
            "ticks": "",
            "zerolinecolor": "white"
           }
          },
          "shapedefaults": {
           "line": {
            "color": "#2a3f5f"
           }
          },
          "ternary": {
           "aaxis": {
            "gridcolor": "white",
            "linecolor": "white",
            "ticks": ""
           },
           "baxis": {
            "gridcolor": "white",
            "linecolor": "white",
            "ticks": ""
           },
           "bgcolor": "#E5ECF6",
           "caxis": {
            "gridcolor": "white",
            "linecolor": "white",
            "ticks": ""
           }
          },
          "title": {
           "x": 0.05
          },
          "xaxis": {
           "automargin": true,
           "gridcolor": "white",
           "linecolor": "white",
           "ticks": "",
           "title": {
            "standoff": 15
           },
           "zerolinecolor": "white",
           "zerolinewidth": 2
          },
          "yaxis": {
           "automargin": true,
           "gridcolor": "white",
           "linecolor": "white",
           "ticks": "",
           "title": {
            "standoff": 15
           },
           "zerolinecolor": "white",
           "zerolinewidth": 2
          }
         }
        },
        "title": {
         "font": {
          "size": 25
         },
         "text": "PubMed Repository Entropy vs. Total Duration",
         "x": 0.5
        },
        "width": 1000,
        "xaxis": {
         "anchor": "y",
         "domain": [
          0,
          1
         ],
         "gridcolor": "LightGray",
         "gridwidth": 1,
         "showgrid": true,
         "title": {
          "font": {
           "size": 18
          },
          "text": "Date of First commit - Publication Date"
         }
        },
        "yaxis": {
         "anchor": "x",
         "domain": [
          0,
          1
         ],
         "gridcolor": "LightGray",
         "gridwidth": 1,
         "showgrid": true,
         "title": {
          "font": {
           "size": 18
          },
          "text": "Normalized Total Entropy"
         }
        }
       }
      }
     },
     "metadata": {},
     "output_type": "display_data"
    }
   ],
   "source": [
    "# from src.almanack.entropy import calculate_normalized_entropy\n",
    "# from src.almanack.git_parser import calculate_loc_changes\n",
    "\n",
    "\n",
    "def repository_analysis():\n",
    "    df = pd.read_parquet(\n",
    "        \"../../../tests/data/examples/pubmed/pubmed_github_links.parquet\"\n",
    "    )\n",
    "\n",
    "    # Slice dataframe to allow for a testing subset\n",
    "    repo_urls = df[\"github_link\"].iloc[300:304].tolist()\n",
    "\n",
    "    # Using ProcessPoolExecutor for parallel processing with up to 16 workers\n",
    "    with ProcessPoolExecutor(max_workers=16) as executor:\n",
    "        entropies = []\n",
    "        times = []\n",
    "\n",
    "        # Submit tasks to executor and collect futures for result retrieval\n",
    "        futures = {\n",
    "            executor.submit(process_repository, repo_url): repo_url\n",
    "            for repo_url in repo_urls\n",
    "        }\n",
    "\n",
    "        # Iterate through completed futures as they become available\n",
    "        for future in as_completed(futures):\n",
    "            repo_url = futures[future]\n",
    "            try:\n",
    "                # Retrieve result or raise exception\n",
    "                normalized_total_entropy, time_of_existence = future.result(timeout=5)\n",
    "                entropies.append(normalized_total_entropy)\n",
    "                times.append(time_of_existence)\n",
    "                print(\n",
    "                    f\"Repository: {repo_url}, Normalized Total Entropy: {normalized_total_entropy:.4f}, Time of Existence: {time_of_existence} days\"\n",
    "                )\n",
    "            except TimeoutError:\n",
    "                print(f\"Repository {repo_url} took longer than 5 seconds to process.\")\n",
    "            except Exception as e:\n",
    "                print(f\"Failed to process repository {repo_url}: {e}\")\n",
    "\n",
    "    return times, entropies\n",
    "\n",
    "\n",
    "# Execute the function to get data\n",
    "times, entropies = repository_analysis()\n",
    "\n",
    "# Using Plotly to visualize results\n",
    "fig = px.scatter(\n",
    "    x=times,\n",
    "    y=entropies,\n",
    "    labels={\n",
    "        \"x\": \"Date of First commit - Publication Date\",\n",
    "        \"y\": \"Normalized Total Entropy\",\n",
    "    },\n",
    "    title=\"PubMed Repository Entropy vs. Total Duration\",\n",
    ")\n",
    "\n",
    "fig.update_traces(marker=dict(size=6, opacity=0.8, line=dict(width=1, color=\"Black\")))\n",
    "fig.update_layout(\n",
    "    title_font_size=25,\n",
    "    xaxis_title_font_size=18,\n",
    "    yaxis_title_font_size=18,\n",
    "    title_x=0.5,  # Center title\n",
    "    margin=dict(l=20, r=20, t=50, b=20),\n",
    "    height=600,\n",
    "    width=1000,\n",
    ")\n",
    "\n",
    "fig.update_xaxes(showgrid=True, gridwidth=1, gridcolor=\"LightGray\")\n",
    "fig.update_yaxes(showgrid=True, gridwidth=1, gridcolor=\"LightGray\")\n",
    "fig.update_traces(marker=dict(size=5, opacity=0.6))\n",
    "\n",
    "fig.show()"
   ]
  }
 ],
 "metadata": {
  "kernelspec": {
   "display_name": "Python 3 (ipykernel)",
   "language": "python",
   "name": "python3"
  },
  "language_info": {
   "codemirror_mode": {
    "name": "ipython",
    "version": 3
   },
   "file_extension": ".py",
   "mimetype": "text/x-python",
   "name": "python",
   "nbconvert_exporter": "python",
   "pygments_lexer": "ipython3",
   "version": "3.11.0"
  }
 },
 "nbformat": 4,
 "nbformat_minor": 5
}
